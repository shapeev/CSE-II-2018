{
 "cells": [
  {
   "cell_type": "markdown",
   "metadata": {},
   "source": [
    "# Recitation Course on Model Order Reduction"
   ]
  },
  {
   "cell_type": "code",
   "execution_count": 27,
   "metadata": {},
   "outputs": [],
   "source": [
    "# Import packages\n",
    "import numpy as np\n",
    "from numpy import linalg as LA\n",
    "from numpy import matrix\n",
    "from numpy.linalg import inv"
   ]
  },
  {
   "cell_type": "markdown",
   "metadata": {},
   "source": [
    "We consider a heat conduction problem\n",
    "\n",
    "$$\\frac{\\partial T(z,t)}{\\partial t} = \\frac{\\partial^2 T(z,t)}{\\partial z^2} + h(z)u(t),\\quad z\\in [0,1]$$\n",
    "\n",
    "satisfying the following boundary conditions:\n",
    "\n",
    "$$T(0,t) = T(1,t) = 0, \\quad \\forall t .$$\n",
    "\n",
    "Then the ODE equation obtained by spatial discretization is formulated as a linear\n",
    "time-invariant (LTI) dynamical system of the form:\n",
    "\n",
    "$$\\frac{dx(t)}{dt} = \\textbf{A}x(t) + \\textbf{b}u(t),$$\n",
    "$$y(t) = \\textbf{c}^Tx(t),$$\n",
    "\n",
    "where $ x = [T_1 T_2 \\cdots T_N ]^T$ represents the solution at each of the interior nodes.\n",
    "\n"
   ]
  },
  {
   "cell_type": "markdown",
   "metadata": {},
   "source": [
    "Our first step is to construct. Since we are dealing with the second derivative over $z$, we can use the following approximation for it "
   ]
  },
  {
   "cell_type": "markdown",
   "metadata": {},
   "source": [
    "$$\\frac{\\partial^2 T(z,t)}{\\partial z^2} = \\frac{1}{(\\Delta z)^2} \\left( \\tilde{T}_{i+1} -2\\tilde{T}_i + \\tilde{T}_{i-1} \\right)$$"
   ]
  },
  {
   "cell_type": "markdown",
   "metadata": {},
   "source": [
    "Therefore the corresponding matrix $\\textbf{A}$ is given by"
   ]
  },
  {
   "cell_type": "markdown",
   "metadata": {},
   "source": [
    "$$\n",
    "\\textbf{A} = -\\begin{bmatrix}\n",
    "2 & -1 & 0 & \\cdots & 0 \\\\\n",
    "-1 & 2 & \\ddots & \\ddots & \\vdots \\\\\n",
    "0 & \\ddots & \\ddots & \\ddots & 0 \\\\\n",
    "\\vdots & \\ddots & \\ddots & 2 & -1 \\\\\n",
    "0 & \\cdots & 0 & -1 & 2 \\\\\n",
    "\\end{bmatrix}\n",
    "$$"
   ]
  },
  {
   "cell_type": "code",
   "execution_count": 73,
   "metadata": {},
   "outputs": [
    {
     "name": "stdout",
     "output_type": "stream",
     "text": [
      "[[-2.  1. -0. -0. -0. -0. -0. -0. -0. -0.]\n",
      " [ 1. -2.  1. -0. -0. -0. -0. -0. -0. -0.]\n",
      " [-0.  1. -2.  1. -0. -0. -0. -0. -0. -0.]\n",
      " [-0. -0.  1. -2.  1. -0. -0. -0. -0. -0.]\n",
      " [-0. -0. -0.  1. -2.  1. -0. -0. -0. -0.]\n",
      " [-0. -0. -0. -0.  1. -2.  1. -0. -0. -0.]\n",
      " [-0. -0. -0. -0. -0.  1. -2.  1. -0. -0.]\n",
      " [-0. -0. -0. -0. -0. -0.  1. -2.  1. -0.]\n",
      " [-0. -0. -0. -0. -0. -0. -0.  1. -2.  1.]\n",
      " [-0. -0. -0. -0. -0. -0. -0. -0.  1. -2.]]\n"
     ]
    }
   ],
   "source": [
    "N = 10\n",
    "A = np.zeros((N,N))\n",
    "A[0,0] = 2\n",
    "A[0,1] = -1\n",
    "A[N-1,N-1] = 2\n",
    "A[N-1,N-2] = -1\n",
    "\n",
    "for j in range(1,N-1):\n",
    "    A[j,j] = 2\n",
    "    A[j,j+1] = -1\n",
    "    A[j,j-1] = -1\n",
    "\n",
    "A = -A\n",
    "print(A)"
   ]
  },
  {
   "cell_type": "markdown",
   "metadata": {},
   "source": [
    "We have to divide with the appropriate constant"
   ]
  },
  {
   "cell_type": "code",
   "execution_count": 74,
   "metadata": {},
   "outputs": [
    {
     "name": "stdout",
     "output_type": "stream",
     "text": [
      "[[-0.2  0.1 -0.  -0.  -0.  -0.  -0.  -0.  -0.  -0. ]\n",
      " [ 0.1 -0.2  0.1 -0.  -0.  -0.  -0.  -0.  -0.  -0. ]\n",
      " [-0.   0.1 -0.2  0.1 -0.  -0.  -0.  -0.  -0.  -0. ]\n",
      " [-0.  -0.   0.1 -0.2  0.1 -0.  -0.  -0.  -0.  -0. ]\n",
      " [-0.  -0.  -0.   0.1 -0.2  0.1 -0.  -0.  -0.  -0. ]\n",
      " [-0.  -0.  -0.  -0.   0.1 -0.2  0.1 -0.  -0.  -0. ]\n",
      " [-0.  -0.  -0.  -0.  -0.   0.1 -0.2  0.1 -0.  -0. ]\n",
      " [-0.  -0.  -0.  -0.  -0.  -0.   0.1 -0.2  0.1 -0. ]\n",
      " [-0.  -0.  -0.  -0.  -0.  -0.  -0.   0.1 -0.2  0.1]\n",
      " [-0.  -0.  -0.  -0.  -0.  -0.  -0.  -0.   0.1 -0.2]]\n"
     ]
    }
   ],
   "source": [
    "A = 1./N * A\n",
    "print(A)"
   ]
  },
  {
   "cell_type": "markdown",
   "metadata": {},
   "source": [
    "Implement eigenvalue decomposition"
   ]
  },
  {
   "cell_type": "code",
   "execution_count": 75,
   "metadata": {},
   "outputs": [
    {
     "name": "stdout",
     "output_type": "stream",
     "text": [
      "[-0.39189859 -0.36825071 -0.33097215 -0.283083   -0.22846297 -0.17153703\n",
      " -0.00810141 -0.03174929 -0.06902785 -0.116917  ]\n"
     ]
    }
   ],
   "source": [
    "lamda, v = LA.eig(A)\n",
    "print(lamda)"
   ]
  },
  {
   "cell_type": "markdown",
   "metadata": {},
   "source": [
    "Our goal is to eliminate each mode, for which the ${\\lambda_i}$ has a big negative real part. Remember, the transfer functions is\n",
    "\n",
    "$$\n",
    "H(s) = \\sum\\limits_{i=1}^N \\frac{\\tilde{c}_i \\tilde{b}_i}{s-\\lambda_i}\n",
    "$$"
   ]
  },
  {
   "cell_type": "markdown",
   "metadata": {},
   "source": [
    "Since we have to eliminate the \"weak\" modes we will sort the array of  the modes and keep the i.e. $5$ largest values."
   ]
  },
  {
   "cell_type": "code",
   "execution_count": 76,
   "metadata": {},
   "outputs": [
    {
     "name": "stdout",
     "output_type": "stream",
     "text": [
      "[-0.00810141 -0.03174929 -0.06902785 -0.116917   -0.17153703 -0.22846297\n",
      " -0.283083   -0.33097215 -0.36825071 -0.39189859]\n",
      "[6 7 8 9 5 4 3 2 1 0]\n"
     ]
    }
   ],
   "source": [
    "Modes_sort = np.sort(lamda)[::-1]\n",
    "print(Modes_sort)\n",
    "\n",
    "Indices_sort = np.argsort(lamda)[::-1]\n",
    "print(Indices_sort)"
   ]
  },
  {
   "cell_type": "markdown",
   "metadata": {},
   "source": [
    "We keep the largest $5$ elements"
   ]
  },
  {
   "cell_type": "code",
   "execution_count": 77,
   "metadata": {},
   "outputs": [
    {
     "name": "stdout",
     "output_type": "stream",
     "text": [
      "[-0.00810141 -0.03174929 -0.06902785 -0.116917   -0.17153703]\n"
     ]
    }
   ],
   "source": [
    "Strong_Modes = np.zeros(5)\n",
    "\n",
    "for i in range(0,5):\n",
    "    Strong_Modes[i] = lamda[Indices_sort[i]]\n",
    "print(Strong_Modes)"
   ]
  },
  {
   "cell_type": "code",
   "execution_count": null,
   "metadata": {},
   "outputs": [],
   "source": []
  }
 ],
 "metadata": {
  "kernelspec": {
   "display_name": "Python 3",
   "language": "python",
   "name": "python3"
  },
  "language_info": {
   "codemirror_mode": {
    "name": "ipython",
    "version": 3
   },
   "file_extension": ".py",
   "mimetype": "text/x-python",
   "name": "python",
   "nbconvert_exporter": "python",
   "pygments_lexer": "ipython3",
   "version": "3.6.3"
  }
 },
 "nbformat": 4,
 "nbformat_minor": 2
}
