{
 "cells": [
  {
   "cell_type": "markdown",
   "metadata": {},
   "source": [
    "# CSE-II, Skoltech, Term 3, 2018"
   ]
  },
  {
   "cell_type": "markdown",
   "metadata": {},
   "source": [
    "## Final exam study guide\n",
    "\n",
    "For the midterm you should be able to:\n",
    "\n",
    "1. Interpolation, quadrature\n",
    "    - given an interval and interpolation nodes, write down a formula for a polynomial interpolation of a function\n",
    "    - given the nodes of a quadrature formula, write down the quadrature formula\n",
    "1. Finite differences (FD)\n",
    "    - write down basic FD approximations to differential operators, equations, and boundary/initial conditions\n",
    "    - determine the order of approximation (and prove)\n",
    "    - judge whether an initial-value problem is stable (or for what parameters it is stable)\n",
    "    - understand how to implement FD on a computer\n",
    "1. Finite elements (FE)\n",
    "    - fomulate a (boundary-value problem for a) PDE in a weak form\n",
    "    - formulate a FE problem, finite element space (piecewise linear functions)\n",
    "    - write down the stiffness matrix in simple cases\n",
    "    - understand how to implement FE on a computer\n",
    "1. Spectral method\n",
    "    - formulate a spectral method for a given PDE\n",
    "    - write down the stiffness matrix (i.e., the left-hand side matrix) in simple cases\n",
    "    - understand how to implement SM on a computer\n",
    "1. Integral equations\n",
    "    - Given an integral equation, write down different discretization schemes to formulate\n",
    "the linear system (Galerkin, Collocation, Nystrom Method)\n",
    "    - Understand what integrals are singular\n",
    "    - Understand when the arising integral equation matrix has a Toeplitz (or BT-TB) form\n",
    "and be able to write down the accelerated matrix vector product with the help of FFT.\n",
    "1. Model Order Reduction\n",
    "    - Given a PDE, write down the discretized form, and reduce it with the eigenvalue-based\n",
    "model order reductuction.\n",
    "    - Understand what modes are important for the reduced model.\n",
    "    - Be able to implement a model order reduction for simple systems."
   ]
  },
  {
   "cell_type": "code",
   "execution_count": null,
   "metadata": {
    "collapsed": true
   },
   "outputs": [],
   "source": []
  }
 ],
 "metadata": {
  "kernelspec": {
   "display_name": "Python 2",
   "language": "python",
   "name": "python2"
  },
  "language_info": {
   "codemirror_mode": {
    "name": "ipython",
    "version": 2
   },
   "file_extension": ".py",
   "mimetype": "text/x-python",
   "name": "python",
   "nbconvert_exporter": "python",
   "pygments_lexer": "ipython2",
   "version": "2.7.14"
  }
 },
 "nbformat": 4,
 "nbformat_minor": 1
}
