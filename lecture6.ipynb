{
 "cells": [
  {
   "cell_type": "markdown",
   "metadata": {
    "slideshow": {
     "slide_type": "slide"
    }
   },
   "source": [
    "# Lecture 6: FEM, adaptivity"
   ]
  },
  {
   "cell_type": "markdown",
   "metadata": {
    "slideshow": {
     "slide_type": "slide"
    }
   },
   "source": [
    "## Linear Elasticity\n",
    "\n",
    "* Consider a domain $\\Omega$ as shown here:\n",
    "<img src=\"fig/2Delastic_domain_ext.png\">\n",
    "We assume it is a piece of elastic material (similar to a beam) of this shape. Fixed at the left end and the force $P$ is applied to its right end.\n",
    "\n",
    "* Boundary:\n",
    "    - leftmost: $\\Gamma_1$\n",
    "    - rightmost: $\\Gamma_3$\n",
    "    - rest: $\\Gamma_2$\n",
    "* Displacement: $(u,v)$ (in the $x$ and $y$ coord)\n",
    "\n",
    "* Elasticity tensors:\n",
    "$$\n",
    "\\begin{align*}\n",
    "C_{11} &= \\begin{pmatrix}\n",
    "\\frac{E (1-\\nu)}{(1-2\\nu)(1+\\nu)} & 0 \\\\ 0 & \\frac{E}{2(1+\\nu)} \\end{pmatrix},\n",
    "&\\qquad\n",
    "C_{12} &= \\begin{pmatrix} 0 & \\frac{E \\nu}{(1-2\\nu)(1+\\nu)}  \\\\ \\frac{E}{2(1+\\nu)} & 0 \\end{pmatrix},\n",
    "\\\\\n",
    "C_{21} &= C_{12}^{\\rm T},\n",
    "&\\qquad\n",
    "C_{22} &= \\begin{pmatrix} \\frac{E}{2(1+\\nu)} & 0 \\\\ 0 & \\frac{E (1-\\nu)}{(1-2\\nu)(1+\\nu)} \\end{pmatrix}\n",
    "\\end{align*}\n",
    "$$\n",
    "Here $E$ is called the modulus of elasticity and $\\nu$ is called the Poisson ratio.\n",
    "(In fact, $C$ is a four-dimensional tensor, denoted by $C$, most likely, after Cauchy.)\n",
    "\n",
    "* Equations:\n",
    "$$\n",
    "\\begin{align*}\n",
    "-{\\rm div} (C_{11} \\nabla u + C_{12} \\nabla v) &= 0\n",
    "\\qquad\\text{in }\\Omega\n",
    "\\\\\n",
    "-{\\rm div} (C_{21} \\nabla u + C_{22} \\nabla v) &= 0\n",
    "\\qquad\\text{in }\\Omega\n",
    "\\\\\n",
    "u = v &= 0 \\qquad\\text{on }\\Gamma_1\n",
    "\\\\\n",
    "C_{11} u_n + C_{12} v_n = C_{21} u_n + C_{22} v_n &= 0 \\qquad\\text{on }\\Gamma_2\n",
    "\\\\\n",
    "C_{11} u_n + C_{12} v_n &= 0 \\qquad\\text{on }\\Gamma_3\n",
    "\\\\\n",
    "C_{21} u_n + C_{22} v_n &= \\frac{P}{H W} \\qquad\\text{on }\\Gamma_3,\n",
    "\\end{align*}\n",
    "$$\n",
    "where $u_n$ and $v_n$ are normal derivatives of the solution.\n",
    "\n",
    "* Variational formulation:\n",
    "    - test functions $p=p(x,y)$ and $q = q(x,y)$\n",
    "    - Dirichet BCs: $p=q=0$ on $\\Gamma_1$\n",
    "    - Variational form:\n",
    "$$\n",
    "\\int_{\\Omega} \\big[\n",
    "    (C_{11} \\nabla u + C_{12} \\nabla v)\\cdot \\nabla p\n",
    "    +\n",
    "    (C_{21} \\nabla u + C_{22} \\nabla v)\\cdot \\nabla q\n",
    "\\big]\n",
    "= \\frac{P}{H W}  \\int_{\\Gamma_3} q\n",
    "\\qquad\\forall p, q\n",
    "$$\n",
    "\n",
    "* A good way to go about this problem is to think that your space consists of vector-valued functions $(u,v)\\in\\mathbb R^2$. Thus, at each node you have two basis functions: such that $(u,v) = (1,0)$ for that node, and $(u,v) = (0,1)$ for that node."
   ]
  },
  {
   "cell_type": "markdown",
   "metadata": {
    "slideshow": {
     "slide_type": "slide"
    }
   },
   "source": [
    "### Error analysis (from lecture 5)\n",
    "\n",
    "* If $u$ is the exact solution and $u_h$ is the approximate solution then one can prove that\n",
    "$$\n",
    "\\|\\nabla u_h - \\nabla u\\|_{L^2}\n",
    "\\leq\n",
    "h \\|\\nabla^2 u\\|_{L^2},\n",
    "$$\n",
    "where $h$ is the **maximal** size of the triangle and $\\nabla^2 u$ is the <a href=\"http://en.wikipedia.org/wiki/Hessian_matrix\">Hessian matrix</a>.\n",
    "\n",
    "* Comes from a truly beautiful argument:\n",
    "    - One can show that $u_h$ is the minimizer of\n",
    "    $$\n",
    "    \\int \\nabla (v_h-u) \\cdot \\nabla (v_h-u) = \\|\\nabla v_h - \\nabla u\\|_{L^2}^2\n",
    "    $$\n",
    "    over all $v_h\\in \\mathcal P_1(\\mathcal T)$ (let's prove it).\n",
    "    - It remains to invoke a geometry-related argument that given $u$\n",
    "    there exists $v_h$ such that $\\|\\nabla v_h - \\nabla u\\| \\leq h \\|\\nabla^2 u\\|$.\n",
    "    This is achieved with, e.g., the Cl&eacute;ment interpotation (warning: google for that on your own risk!)\n"
   ]
  },
  {
   "cell_type": "markdown",
   "metadata": {
    "slideshow": {
     "slide_type": "slide"
    }
   },
   "source": [
    "## Adaptivity"
   ]
  },
  {
   "cell_type": "markdown",
   "metadata": {
    "slideshow": {
     "slide_type": "slide"
    }
   },
   "source": [
    "Consider a 1D equation:\n",
    "$$ \\int_0^1 u' v' = \\int_0^1 f v $$\n",
    "and substitute there the approximate solution (here ${\\rm Res}(v)$ is the residual):\n",
    "$$\n",
    "\\begin{align*}\n",
    "{\\rm Res}(v) :=& \\int _0^1 f v - \\int _0^1 u_h' v'\n",
    "\\\\=&~~ \\sum_T \\int_T \\big(f v - u_h' v'\\big)\n",
    "\\\\=&~~ \\sum_T \\int_T \\big(f v + u_h'' v\\big) + \\sum _i \\big(u _h'(x _i+0) - u _h'(x _{i+1}-0)\\big) v(x_i)\n",
    "\\end{align*}\n",
    "$$\n",
    "In any dimension one has:\n",
    "$$\n",
    "{\\rm Res}(v) =  \\sum_T \\int_T \\big(f v + \\Delta u_h v\\big) + \\sum _{\\gamma \\in \\Gamma}\\int _\\gamma [\\nabla u _h] _{\\gamma} v,\n",
    "$$\n",
    "where $\\gamma$ is the edge that $T _1$ and $T _2$ share, and\n",
    "$$[\\nabla u _h] _{\\gamma} = (\\nabla u _h) _{T _1} \\cdot n _1 + (\\nabla u _h) _{T _2} \\cdot n _2$$\n",
    "<img src=\"fig/FEM_adapt_gamma.png\">"
   ]
  },
  {
   "cell_type": "markdown",
   "metadata": {
    "slideshow": {
     "slide_type": "slide"
    }
   },
   "source": [
    "With a few more manipulations, we can derive\n",
    "$$\n",
    "\\begin{align*}\n",
    "\\|\\nabla (u_h-u)\\|^2\n",
    "&\\leq\n",
    "С \\sum_T h_T^2 \\|f + \\Delta u_h\\| _{L^2}^2 + С \\sum _{\\gamma} h _{\\gamma} \\big\\|[\\nabla u _h] _{\\gamma} \\big\\|_{L^2(\\gamma)}^2\n",
    "\\\\ &=~~\n",
    "С \\sum_T h_T^2 \\|f\\| _{L^2}^2 + С \\sum _{\\gamma} h _{\\gamma} \\big\\|[\\nabla u _h] _{\\gamma} \\big\\|_{L^2(\\gamma)}^2\n",
    "\\end{align*}\n",
    "$$\n",
    "(used that $\\Delta u_h = 0$ in any $T$)."
   ]
  },
  {
   "cell_type": "markdown",
   "metadata": {
    "slideshow": {
     "slide_type": "slide"
    }
   },
   "source": [
    "Hence the strategy:\n",
    "\n",
    "* Estimate error contributions for each non-Dirichlet edge $\\gamma$\n",
    "* Mark some of the edges for refinement (e.g., those with top 20% of error estimator)\n",
    "* Refine\n",
    "* Repeat"
   ]
  },
  {
   "cell_type": "markdown",
   "metadata": {
    "slideshow": {
     "slide_type": "slide"
    }
   },
   "source": [
    "### Demo:\n",
    "\n",
    "We solve\n",
    "$$\n",
    "\\begin{align*}\n",
    "\\Delta u &= 1 ~~~~ \\text{in }\\Omega \\\\\n",
    "u |_ \\Gamma &= 0 ~~~~ \\text{in }\\Gamma\n",
    "\\end{align*}\n",
    "$$\n",
    "In this region:\n",
    "<img src='fig/Lshape_refin.png'>"
   ]
  },
  {
   "cell_type": "markdown",
   "metadata": {
    "slideshow": {
     "slide_type": "slide"
    }
   },
   "source": [
    "### References\n",
    "\n",
    "* [Thomas Gratsch, Klaus-Jurgen Bathe, A posteriori error estimation techniques in practical finite element analysis](http://web.mit.edu/kjb/www/Principal_Publications/A_posteriori_Error_Estimation_Techniques_in_Practical_Finite_Element_Analysis.pdf)\n"
   ]
  },
  {
   "cell_type": "markdown",
   "metadata": {
    "slideshow": {
     "slide_type": "slide"
    }
   },
   "source": [
    "### Goal-oriented adaptivity\n",
    "\n",
    "* Suppose we are interested only in\n",
    "$$\n",
    "Q(u) = \\int _{\\Omega} u\n",
    "$$\n",
    "(quantity of interest). Our error is:\n",
    "$$\n",
    "{\\rm err} = Q(u _h)-Q(u)\n",
    "$$\n",
    "\n",
    "* Consider $z$ such that\n",
    "$$\n",
    "Q(u) = A(u, z) ~~~~ \\forall u\n",
    "$$\n",
    "Then ${\\rm err} = A(u _h,z)-A(u,z) = A(u _h,z)-F(z)$\n",
    "\n",
    "* Unfortunately, it is useless to approximate $z$ with $z_h$:\n",
    "$$\n",
    "{\\rm err} \\approx A(u _h,z _h)-F(z _h) = 0\n",
    "$$\n",
    "\n",
    "* Hence find $\\tilde{z}$ which approximates $z$ better than $z_h$ (variants: with higher-order approximation, or with denser mesh):\n",
    "$$\n",
    "{\\rm err} \\approx A(u _h,\\tilde{z}) - F(\\tilde{z}) = A(u _h,\\tilde{z}-\\tilde{z} _h) - F(\\tilde{z}-\\tilde{z} _h) = \\int _{\\Omega} \\big(\\nabla u _h\\cdot \\nabla(\\tilde{z}-\\tilde{z} _h) - f (\\tilde{z}-\\tilde{z} _h) \\big),\n",
    "$$\n",
    "where $\\tilde{z}_h$ is the approximation of $\\tilde{z}$.\n",
    "Then one refines where $\\nabla u _h\\cdot \\nabla(\\tilde{z}-\\tilde{z} _h) - f (\\tilde{z}-\\tilde{z} _h)$ is large."
   ]
  },
  {
   "cell_type": "markdown",
   "metadata": {
    "slideshow": {
     "slide_type": "slide"
    }
   },
   "source": [
    "**Exercise**: What PDE and boundary conditions does $z$ satisfy?"
   ]
  },
  {
   "cell_type": "code",
   "execution_count": null,
   "metadata": {
    "collapsed": true
   },
   "outputs": [],
   "source": []
  }
 ],
 "metadata": {
  "celltoolbar": "Slideshow",
  "kernelspec": {
   "display_name": "Python 2",
   "language": "python",
   "name": "python2"
  },
  "language_info": {
   "codemirror_mode": {
    "name": "ipython",
    "version": 2
   },
   "file_extension": ".py",
   "mimetype": "text/x-python",
   "name": "python",
   "nbconvert_exporter": "python",
   "pygments_lexer": "ipython2",
   "version": "2.7.14"
  }
 },
 "nbformat": 4,
 "nbformat_minor": 1
}
