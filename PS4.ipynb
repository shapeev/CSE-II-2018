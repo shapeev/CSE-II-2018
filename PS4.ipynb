{
 "cells": [
  {
   "cell_type": "markdown",
   "metadata": {},
   "source": [
    "# CSE-II course, Skoltech, Term 4, 2017-2018"
   ]
  },
  {
   "cell_type": "markdown",
   "metadata": {},
   "source": [
    "## Problem Set 4"
   ]
  },
  {
   "cell_type": "markdown",
   "metadata": {},
   "source": [
    "### Model Order Reduction"
   ]
  },
  {
   "cell_type": "markdown",
   "metadata": {},
   "source": [
    "### Problem 1 (Heat Conducting Bar) (80pt)"
   ]
  },
  {
   "cell_type": "markdown",
   "metadata": {},
   "source": [
    "We consider a heat conduction problem about an iron bar\n",
    "\n",
    "$$\\frac{\\partial T(z,t)}{\\partial t} - \\alpha \\frac{\\partial^2 T(z,t)}{\\partial z^2} = h(z)u(t),\\quad z\\in [0,1]$$\n",
    "\n",
    "where the parameter $\\alpha$ is called thermal diffusivity and it is equal to $2.3 1e-5$ for iron. The satisfied the boundary conditions are the following:\n",
    "\n",
    "$$T(0,t) = T(1,t) = 0, \\quad \\forall t .$$\n",
    "\n",
    "Then the ODE equation obtained by spatial discretization is formulated as a linear\n",
    "time-invariant (LTI) dynamical system of the form:\n",
    "\n",
    "$$\\textbf{E} \\frac{dx(t)}{dt} = \\textbf{A}x(t) + \\textbf{b}u(t),$$\n",
    "\n",
    "$$y(t) = \\textbf{c}^T x(t)$$\n",
    "\n",
    "where $ x = [T_1 T_2 \\cdots T_N ]^T$ represents the solution at each of the interior nodes. In this case, $\\textbf{E}$ is an identity matrix, so it does not need to be included explicitly. \n",
    "\n"
   ]
  },
  {
   "cell_type": "markdown",
   "metadata": {},
   "source": [
    "* **(5pt)** For N=200, decide the input vector $\\textbf{b}$ and the output vector $\\textbf{c}$ for the following case:\n",
    "\n",
    " - $\\texttt{Input}$: heat source injected $20$ steps away from the center of the bar.\n",
    " - $\\texttt{Output}$: temperature at the same point as the input.\n",
    "\n",
    "* **(5pt)** Construct the matrix $\\textbf{A}$.\n",
    "\n",
    "* **(30pt)** Reduce the dynamical system using the eigenmode truncation method. Try reduced-order models of five sizes (number of states): $q = \\{2, 5, 10, 20 ,40\\}.$ Please clearly describe how you picked the eigenmodes to generate the reduced-order models. \n",
    "\n",
    "\n",
    "* **(10pt)** Create a \"Bode plot\" of the original system and superimpose the Bode plots of your five reduced order models. Please label the curves and use different colors and different styles to distinguish among them.\n",
    "\n",
    "* **(15pt)** Compare the accuracy among your reduced-order models for $q = \\{2, 5, 10, 20, 40\\}$ with the original system. Provide a table with the $L_2$ norm relative error between the above matirces.\n",
    "\n",
    "* **(15pt)** Use a table to compare the CPU time required to simulate the original model with the time to simulate all your reduced-order models of different sizes.\n",
    "\n",
    "** Note:** *a Bode plot simply consists of two separate plots of the magnitude and phase of $H(j\\omega),$ the transfer function of the system for difference values of the angular frequency $\\omega = 2\\pi f.$*"
   ]
  },
  {
   "cell_type": "markdown",
   "metadata": {},
   "source": [
    "### Problem 2 (Passive Systems) (20pt)"
   ]
  },
  {
   "cell_type": "markdown",
   "metadata": {},
   "source": [
    "We consider the following transfer function of an arbitrary system\n",
    "\n",
    "$$H(j\\omega) = \\dfrac{j\\omega + c}{[ab-\\omega^2 + j \\omega(a+b)] - \\epsilon(j \\omega + c)}$$\n",
    "\n",
    "* **(20pt)** What are the conditions between $a,b,c$, and $\\epsilon$ in order for the above transfer function to be passive?"
   ]
  }
 ],
 "metadata": {
  "kernelspec": {
   "display_name": "Python 3",
   "language": "python",
   "name": "python3"
  },
  "language_info": {
   "codemirror_mode": {
    "name": "ipython",
    "version": 3
   },
   "file_extension": ".py",
   "mimetype": "text/x-python",
   "name": "python",
   "nbconvert_exporter": "python",
   "pygments_lexer": "ipython3",
   "version": "3.6.3"
  }
 },
 "nbformat": 4,
 "nbformat_minor": 2
}
