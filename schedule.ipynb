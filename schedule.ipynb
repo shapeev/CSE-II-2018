{
 "cells": [
  {
   "cell_type": "markdown",
   "metadata": {},
   "source": [
    "# CSE-II"
   ]
  },
  {
   "cell_type": "markdown",
   "metadata": {},
   "source": [
    "**Course instructors: **\n",
    "Alexander Shapeev\n",
    "\n",
    "** TAs:**\n",
    "Evgenii Tsymbalov, Ilias Giannakopoulos"
   ]
  },
  {
   "cell_type": "markdown",
   "metadata": {},
   "source": [
    "[Course syllabus](syllabus.ipynb)\n",
    "\n",
    "Python [Crash Course](https://github.com/oseledets/nla2015/blob/master/lectures/Python_crash_course.ipynb)\n",
    "\n",
    "\n",
    "| Week | Monday | Tuesday | Thursday |  |\n",
    "|---|---|---|---|---|\n",
    "|1| [Lecture 1](lecture-1.ipynb) | [Lecture 2](lecture-2.ipynb) | [Lecture 3](lecture-3.ipynb) | [Problem Set 1](PS1.ipynb)<br>(due Wednesday, February 14) \n",
    "|2| [Lecture 4](lecture-4.ipynb) | [Lecture 5](lecture5.ipynb)| Practice session | [Problem Set 2](PS2.ipynb)<br>(due Saturday, February 24)\n",
    "|3| [Lecture 6](lecture6.ipynb)  | [Lecture 7](integral_equations_lecture.pdf) | [Practice session on FEM & IE](Recitation on FEM and IE.ipynb) | &nbsp; |\n",
    "|4| Recap for Midterm | Midterm Exam | [Lecture 8](lecture7.ipynb)  | &nbsp; |\n",
    "|5| [Lecture 9](Moder_Order_Reuction_Lecture.pdf) | [Practice session SM](Spectral-practice.ipynb)<br>[Practice session MOR](Recitation_on_MOR.ipynb) | Lecture 9 | [Problem Set 3](PS3.ipynb)<br>(due Monday, March 5) |\n",
    "|6| Lecture 10 <br> (Sobolev spaces) | Lecture 11 <br> (FVM) | holiday | &nbsp; |\n",
    "|7| Recap, Oral exam | Oral exam | Final exam | &nbsp; |\n",
    "|8| &nbsp; | &nbsp; | &nbsp; | &nbsp; |\n",
    "\n"
   ]
  },
  {
   "cell_type": "code",
   "execution_count": null,
   "metadata": {
    "collapsed": true
   },
   "outputs": [],
   "source": []
  }
 ],
 "metadata": {
  "kernelspec": {
   "display_name": "Python 2",
   "language": "python",
   "name": "python2"
  },
  "language_info": {
   "codemirror_mode": {
    "name": "ipython",
    "version": 2
   },
   "file_extension": ".py",
   "mimetype": "text/x-python",
   "name": "python",
   "nbconvert_exporter": "python",
   "pygments_lexer": "ipython2",
   "version": "2.7.14"
  }
 },
 "nbformat": 4,
 "nbformat_minor": 1
}
