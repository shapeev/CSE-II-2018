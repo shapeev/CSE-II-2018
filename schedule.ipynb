{
 "cells": [
  {
   "cell_type": "markdown",
   "metadata": {},
   "source": [
    "# CSE-II"
   ]
  },
  {
   "cell_type": "markdown",
   "metadata": {},
   "source": [
    "**Course instructors: **\n",
    "Alexander Shapeev\n",
    "\n",
    "** TAs:**\n",
    "Evgenii Tsymbalov, Ilias Giannakopoulos"
   ]
  },
  {
   "cell_type": "markdown",
   "metadata": {},
   "source": [
    "[Course syllabus](syllabus.ipynb)\n",
    "\n",
    "Python [Crash Course](https://github.com/oseledets/nla2015/blob/master/lectures/Python_crash_course.ipynb)\n",
    "\n",
    "\n",
    "| Week | Monday | Tuesday | Thursday |  |\n",
    "|---|---|---|---|---|\n",
    "|1| [Lecture 1](lecture-1.ipynb) | [Lecture 2](lecture-2.ipynb) <br> [Lecture 3](lecture-3.ipynb) | [Problem Set 1](PS1.ipynb)<br>(due Wednesday, February 13)  |\n",
    "|2| [Lecture 4](lecture-4.ipynb) | &nbsp;| &nbsp; | &nbsp; |\n",
    "|3| &nbsp; | &nbsp; | &nbsp; | &nbsp; |\n",
    "\n"
   ]
  },
  {
   "cell_type": "code",
   "execution_count": null,
   "metadata": {
    "collapsed": true
   },
   "outputs": [],
   "source": []
  }
 ],
 "metadata": {
  "kernelspec": {
   "display_name": "Python 2",
   "language": "python",
   "name": "python2"
  },
  "language_info": {
   "codemirror_mode": {
    "name": "ipython",
    "version": 2
   },
   "file_extension": ".py",
   "mimetype": "text/x-python",
   "name": "python",
   "nbconvert_exporter": "python",
   "pygments_lexer": "ipython2",
   "version": "2.7.14"
  }
 },
 "nbformat": 4,
 "nbformat_minor": 1
}
