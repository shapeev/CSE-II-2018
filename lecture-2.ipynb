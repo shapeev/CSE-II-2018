{
 "cells": [
  {
   "cell_type": "markdown",
   "metadata": {
    "slideshow": {
     "slide_type": "slide"
    }
   },
   "source": [
    "# Lecture 2: Functions, interpolation, quadrature"
   ]
  },
  {
   "cell_type": "markdown",
   "metadata": {
    "slideshow": {
     "slide_type": "slide"
    }
   },
   "source": [
    "## Basics\n",
    "\n",
    "### Derivative\n",
    "\n",
    "You should know what is:\n",
    "\n",
    "* a function,\n",
    "* a <a href=\"http://en.wikipedia.org/wiki/Derivative\">derivative</a>, and\n",
    "* a <a href=\"http://en.wikipedia.org/wiki/Partial_derivative\">partial derivative</a>."
   ]
  },
  {
   "cell_type": "markdown",
   "metadata": {
    "slideshow": {
     "slide_type": "slide"
    }
   },
   "source": [
    "# Problem of interpolation\n",
    "\n",
    "* Given a function $f(x)$ to be interpolated on an interval $[a,b]$ and interpolation points $x _i$, $a \\leq x _0 < x _1 < ... < x _n \\leq b$, find $\\phi(x) \\approx f(x)$. You can only use values of $f$ at $x _i$.\n",
    "\n",
    "* Exercise 1: $\\phi(x) = const$, $x = (a+b)/2$. Express the error $f(x) - \\phi(x)$ as $f(\\xi) (x-x_0)$, where $\\xi$ lies between $x_0$ and $x$. **Hint:** use the mean-value theorem.\n",
    "\n",
    "* Exercise 2: $\\phi(x) = c_0 + c_1 x$, $x_0=a$, $x_n = b$. Find a good expression for the error $f(x) - \\phi(x)$."
   ]
  },
  {
   "cell_type": "markdown",
   "metadata": {
    "slideshow": {
     "slide_type": "slide"
    }
   },
   "source": [
    "## General polynomial interpolation\n",
    "\n",
    "We require $f(x_j) = \\sum c_k x_j^k$. This can be expressed as a system of linear algebraic equations (SLAE)\n",
    "\n",
    "$$\n",
    "\\left(\\begin{array}{cccc}\n",
    "x_0^0 & x_0^1 & \\ldots & x_0^n \\\\\n",
    "x_1^0 & x_1^1 & \\ldots & x_1^n \\\\\n",
    "\\ldots & \\ldots & \\ldots & \\ldots \\\\\n",
    "x_n^0 & x_n^1 & \\ldots & x_n^n \\\\\n",
    "\\end{array}\\right)\n",
    "\\left(\\begin{array}{c} c_0 \\\\ ... \\\\ c_n \\end{array}\\right)\n",
    "=\n",
    "\\left(\\begin{array}{c} f(x_0) \\\\ ... \\\\ f(x_n) \\end{array}\\right)\n",
    "$$\n",
    "\n",
    "Going on this path is problematic:\n",
    "* This matrix is called the Wandermonde matrix $W(x_0, \\ldots, x_n)$\n",
    "* It is ill-conditioned: ${\\rm cond}\\, W \\gtrsim 2^n$; so works for small $n$ only"
   ]
  },
  {
   "cell_type": "markdown",
   "metadata": {
    "slideshow": {
     "slide_type": "slide"
    }
   },
   "source": [
    "## Lagrange polynomial interpolation\n",
    "\n",
    "* Simple idea: the conditions on $l_j(x)$ \n",
    "$$\n",
    "l_j(x_i) = \\begin{cases}\n",
    "1 & i=j \\\\\n",
    "0 & i \\ne j\n",
    "\\end{cases}\n",
    "$$\n",
    "uniquely define an $n$-th degreer polynomial $l_j(x)$.\n",
    "This is called the elementary Lagrange polynomials.\n",
    "\n",
    "* Then we can write\n",
    "$$\n",
    "L _n(x) = \\sum _{j=0}^n f(x _j) l _j(x)\n",
    "$$\n",
    "and it is called the Lagrange interpolating polynomial\n",
    "\n",
    "* The problem of interpolation is uniquely solvable, so it is slightly more correct to say that it is **the** interpolating polynomial in the form of Lagrange.\n",
    "\n",
    "* There is a formula\n",
    "$$\n",
    "L_n(x) = \\sum _{j=0}^n \\frac{f(x_j) \\omega(x)}{(x-x_j) \\omega'(x_j)}\n",
    ",\\quad\\text{where}\\quad \\omega(x) = \\prod_{k=0}^n (x-x_k)\n",
    "$$\n",
    "\n",
    "* For more details, see the book [Tyrtyshnokov 1997, Lecture 12]. In particular the stuff on **divided differences**."
   ]
  },
  {
   "cell_type": "markdown",
   "metadata": {
    "slideshow": {
     "slide_type": "slide"
    }
   },
   "source": [
    "## Piecewise linear, polynomial,... interpolation\n",
    "\n",
    "* Given points $x_0,\\ldots,x_n$, we can do a piecewise linear interpolation:\n",
    "$$\n",
    "f(x) = f(x_j) + \\frac{f(x_{j+1})-f(x_j)}{x_{j+1}-x_j} \\, (x-x_j)\n",
    ", \\quad\\text{where j is such that} \\quad x_j\\leq x<x_{j+1}\n",
    "$$\n",
    "\n",
    "* In general, we can do a piecewise polynomial interpolation. One of its version\n",
    "is **splines**."
   ]
  },
  {
   "cell_type": "markdown",
   "metadata": {
    "slideshow": {
     "slide_type": "slide"
    }
   },
   "source": [
    "## Interpolation in many dimensions\n",
    "\n",
    "* In one dimension we have $n+1$ interpolation points and $n+1$ parameters of the interpolant.\n",
    "* In $d$ dimensions we have $(n+1)^d$ interpolation points and hence $(n+1)^d$ interpolation coefficients. It means that normally it takes $O\\big((n+1)^d\\big)$ operations to do it.\n",
    "* Local (e.g., piecewise linear) are not so bad: at each time they need only $2^d$ which can be done pretty efficiently. Normally, when $d>6$, you cannot do an interpolation directly, without using tricks."
   ]
  },
  {
   "cell_type": "markdown",
   "metadata": {
    "slideshow": {
     "slide_type": "slide"
    }
   },
   "source": [
    "## Fourier interpolation\n",
    "\n",
    "Problem: interpolate a $1$-periodic function $f(x)$.\n",
    "($1$-periodic means $f(x+1)=f(x)$.)\n",
    "\n",
    "$a=-1/2$, $b=1/2$, $x_j=h j$, $h=1/(2N)$, $j=-N,...,N-1$.\n",
    "\n",
    "$$\\phi(x) = \\sum_{k=-N}^{N-1} c_k e^{-2\\pi i k x}$$\n",
    "\n",
    "We have\n",
    "$$\n",
    "\\left(\\begin{array}{c} f(-N h) \\\\ ... \\\\ f((N-1) h) \\end{array}\\right)\n",
    "=\n",
    "F_N\n",
    "\\left(\\begin{array}{c} c _{-N h} \\\\ ... \\\\ c _{(N-1) h} \\end{array}\\right),\n",
    "$$\n",
    "where $F_N$ is the matrix of the direct discrete Fourier transform.\n",
    "\n",
    "* It turns out that $1/\\sqrt{2N} F_N$ is an orthogonal matrix, therefore $F_N^{-1}$ is well-conditioned."
   ]
  },
  {
   "cell_type": "markdown",
   "metadata": {
    "slideshow": {
     "slide_type": "slide"
    }
   },
   "source": [
    "## Sine and Cosine transform\n",
    "\n",
    "* Sine transform:\n",
    "\n",
    "$$\\phi(x) = \\sum_{k=-N}^{N-1} c_k \\sin(x)$$\n",
    "\n",
    "(for periodic antisymmetric functions)\n",
    "\n",
    "* Cosine transform:\n",
    "\n",
    "$$\\phi(x) = \\sum_{k=-N}^{N-1} c_k \\cos(x)$$\n",
    "\n",
    "(for periodic symmetric functions)\n",
    "\n",
    "* Check `scipy.fftpack` in python for the respective routines. More will be discussed when we cover \"Spectral methods\""
   ]
  },
  {
   "cell_type": "markdown",
   "metadata": {
    "slideshow": {
     "slide_type": "slide"
    }
   },
   "source": [
    "## Chebyshev interpolation\n",
    "\n",
    "* Chebyshev polynomials:\n",
    "$T_k(x) = \\cos(k \\arccos(x))$\n",
    "\n",
    "* interpolation points: roots of $T_{n+1}(x)$"
   ]
  },
  {
   "cell_type": "markdown",
   "metadata": {
    "slideshow": {
     "slide_type": "slide"
    }
   },
   "source": [
    "# Quadrature\n",
    "\n",
    "* Given a function $f(x)$, to be interpolated on an interval $[a,b]$ and interpolation points $x _i$, $a \\leq x _0 < x _1 < ... < x _n \\leq b$, find $c_0, ..., c_n$ such that\n",
    "$$ \\int _a ^b f(x) dx \\approx \\sum _i c_i f(x_i) $$\n",
    "\n",
    "* Exercise 3: For $n=1$ (two-point integration), $a=-h$, $b=h$, express the error as $O(h^k)$ and find $x_0$ and $x_1$ that optimize the error, i.e., maximize $h$."
   ]
  },
  {
   "cell_type": "markdown",
   "metadata": {
    "slideshow": {
     "slide_type": "slide"
    }
   },
   "source": [
    "## Quadrature from Interpolation\n",
    "\n",
    "Easy:\n",
    "$$\n",
    "\\int_a^b f(x) dx\n",
    "\\approx\n",
    "\\sum_k f(x_k) \\underbrace{\\int_a^b L_k(x) dx}_{c_k}\n",
    "$$\n",
    "\n",
    "* Together: piecewise constant interpolation\n",
    "\n",
    "* Together: piecewise linear interpolation"
   ]
  },
  {
   "cell_type": "markdown",
   "metadata": {
    "slideshow": {
     "slide_type": "slide"
    }
   },
   "source": [
    "## How to choose the quadrature points?\n",
    "\n",
    "* Define error by\n",
    "$$\n",
    "{\\rm err} := \\int _a ^b f(x) dx - \\sum _i c_i f(x_i)\n",
    "$$\n",
    "\n",
    "* You can prove that, in the worst case,\n",
    "$$\n",
    "{\\rm err} = O\\big((b-a)^{n+2}\\big).\n",
    "$$\n",
    "\n",
    "* In fact, choosing $x_k$ to be the roots of Legendre polynomials on the interval $[a,b]$ makes ${\\rm err} = O\\big((b-a)^{2n+3}\\big)$.\n",
    "\n",
    "* Why Legendre polynomials? Because they are orthogonal in $L_2(a,b)$. (If you wonder how it is related to orthogonality, refer to [Tyrtyshnikov 1997, Lecture 16])\n",
    "\n",
    "* In general, there is a way to choose good weights for functions with known singularities, e.g., when $f$ behaves like $(x-a)^{-2}$."
   ]
  },
  {
   "cell_type": "markdown",
   "metadata": {
    "slideshow": {
     "slide_type": "slide"
    }
   },
   "source": [
    "## Relevant material:\n",
    "\n",
    "* Eugene E. Tyrtyshnikov, “A Brief Introduction to Numerical Analysis.” Springer Science & Business Media, 2012 (ISBN: 978-0-8176-8136-4; DOI: 10.1007/978-0-8176-8136-4)."
   ]
  }
 ],
 "metadata": {
  "celltoolbar": "Slideshow",
  "kernelspec": {
   "display_name": "Python 2",
   "language": "python",
   "name": "python2"
  },
  "language_info": {
   "codemirror_mode": {
    "name": "ipython",
    "version": 2
   },
   "file_extension": ".py",
   "mimetype": "text/x-python",
   "name": "python",
   "nbconvert_exporter": "python",
   "pygments_lexer": "ipython2",
   "version": "2.7.14"
  }
 },
 "nbformat": 4,
 "nbformat_minor": 1
}
