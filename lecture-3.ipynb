{
 "cells": [
  {
   "cell_type": "markdown",
   "metadata": {
    "slideshow": {
     "slide_type": "slide"
    }
   },
   "source": [
    "# Lecture 3: Differential Equations and Finite Differences"
   ]
  },
  {
   "cell_type": "markdown",
   "metadata": {
    "slideshow": {
     "slide_type": "fragment"
    }
   },
   "source": [
    "### To be learned:\n",
    "\n",
    "* What is a PDE\n",
    "* Derive a DE (differential equation) for a system of masses and springs\n",
    "* finite difference method (FDM)\n",
    "* order of approximation\n",
    "* how to numerically solve a DE "
   ]
  },
  {
   "cell_type": "markdown",
   "metadata": {
    "slideshow": {
     "slide_type": "slide"
    }
   },
   "source": [
    "## Why PDEs?\n",
    "\n",
    "PDEs (Partial Differential Equations) are imporant because:\n",
    "\n",
    "* modeling almost any physical phenomenon involves differential equations\n",
    "* almost any other physical phenomena involve integral equations\n"
   ]
  },
  {
   "cell_type": "markdown",
   "metadata": {
    "slideshow": {
     "slide_type": "slide"
    }
   },
   "source": [
    "## Basics\n",
    "\n",
    "### Derivative\n",
    "\n",
    "You should know what is:\n",
    "\n",
    "* a <a href=\"http://en.wikipedia.org/wiki/Derivative\">derivative</a>, and\n",
    "* a <a href=\"http://en.wikipedia.org/wiki/Partial_derivative\">partial derivative</a>."
   ]
  },
  {
   "cell_type": "markdown",
   "metadata": {
    "slideshow": {
     "slide_type": "slide"
    }
   },
   "source": [
    "### PDEs\n",
    "\n",
    "* PDE = equation involving partial derivatives (see also an ODE).\n",
    "\n",
    "* An examples of a PDE:\n",
    "\n",
    "$$ \\frac{\\partial u}{\\partial t} = \\frac{\\partial^2 u}{\\partial x^2} + \\frac{\\partial^2 u}{\\partial y^2}, $$\n",
    "\n",
    "where $u(t,x,y)$ is an unknown function (e.g., the temperature) that depends on time $t$ and space $x,y$."
   ]
  },
  {
   "cell_type": "markdown",
   "metadata": {
    "slideshow": {
     "slide_type": "slide"
    }
   },
   "source": [
    "### Modeling with DEs (Differential Equations)\n",
    "\n",
    "Let us model stretching a guitar string:\n",
    "<img width=\"300\" src=\"fig/guitar_string_stretch.jpg\">\n",
    "\n",
    "Consider a system of $N$ springs and $N+1$ masses:\n",
    "\n",
    "<img width=\"400\" src=\"fig/springs.png\">\n",
    "$i$-th mass is being pulled with the force $F _i$.\n",
    "\n",
    "\n",
    "* distance between masses: $h = 1/N$ (assuming that the length of the string is $1$).\n",
    "* Positions of the masses are $x _i = i h$ fixed, and $y_i$ to be found.\n",
    "* Elongation of each spring is $e _i = ((x _{i+1}-x _i)^2+(y _{i+1}-y _i)^2)^{1/2} = (h^2+(y _{i+1}-y _i)^2)^{1/2}$.\n",
    "* Recall that the energy of a spring is\n",
    "$$\n",
    "k e _i^2/2\n",
    "= \\frac{k h^2}{2} (1+(y _{i+1}-y _i)^2/(h^2))\n",
    "$$\n",
    "where $k$ is the spring constant.\n",
    "* Total energy:\n",
    "$$\n",
    "E = \\frac{k h}{2} + \\frac{k h}{2} \\sum _{i=0}^{N-1} (y _{i+1}-y _i)^2/(h^2)\n",
    "$$\n",
    "\n",
    "* Internal force on $j$-th mass:\n",
    "$$\n",
    "f _j = -\\frac{\\partial E}{\\partial y _j} = k \\big(\n",
    "\t(y _{j+1}-y _j) - (y _{j}-y _{j-1}) \\big)\n",
    "= k/h  (y _{j+1}-2 y _j + y _{j-1})\n",
    "$$\n",
    "\n",
    "* Equilibrium (force balance):\n",
    "$$\n",
    "h F _j = -h f _j = k (-y _{j+1}+2 y _j - y _{j-1})\n",
    "$$\n",
    "\n",
    "* We know that if $y _j = u(j h)$, where $u$ is a smooth function then\n",
    "$$\n",
    "0 = h^{-2} (y _{j+1}-2 y _j + y _{j-1}) \\approx u''(hj).\n",
    "$$\n",
    "Hence if also $F _j = h^{-2} F(j h)$ then we have\n",
    "$$\n",
    "\\frac{k}{2} u'' = F\n",
    "$$\n",
    "as a model.\n",
    "\n",
    "* **Note**: The way we scaled $F$ as $h\\to 0$ is not right. To make it cleaner, we should have assumed that $k$ depends on $h$ as $c h^{-2}$."
   ]
  },
  {
   "cell_type": "markdown",
   "metadata": {
    "slideshow": {
     "slide_type": "slide"
    }
   },
   "source": [
    "### a PDE\n",
    "\n",
    "<img width=\"400\" src=\"fig/springs_sheet.png\">\n",
    "\n",
    "* Force balance:\n",
    "$$\n",
    "h^{-2} (u _{i+1,j} - 2 u _{i,j} + u _{i-1,j} + u _{i,j+1} - 2 u _{i,j} + u _{i,j-1})\n",
    "= -F _{i,j}\n",
    "$$\n",
    "which approximates\n",
    "$$\n",
    "\\Delta u = -F,\n",
    "$$\n",
    "where $\\Delta = \\frac{\\partial^2}{\\partial x^2} + \\frac{\\partial^2}{\\partial y^2}$\n",
    "\n",
    "* This equation models a membrane.\n",
    "* This is called a **Poisson equation**\n",
    "* $\\Delta$ is called a **Laplacian**"
   ]
  },
  {
   "cell_type": "markdown",
   "metadata": {
    "slideshow": {
     "slide_type": "slide"
    }
   },
   "source": [
    "### A boundary-value problem (BVP)\n",
    "\n",
    "To solve a PDE we need:\n",
    "* A domain $\\Omega$ (say, a unit square)\n",
    "* **Boundary conditions**. They describe what we do with the boundary masses.\n",
    "* **Dirichlet**: fixing the positions of masses (often to be zero): $u| _{\\Gamma} = 0$ ($\\Gamma = \\partial\\Omega$ is the boundary of the domain $\\Omega$)\n",
    "* **Neumann** (also known as free): leaving their (vertical) position free. This corresponds to setting $\\frac{\\partial u}{\\partial n} = 0$ on $\\Gamma$.\n",
    "\n",
    "* In general, one may have a non-zero RHS (right-hand side), e.g., $u| _{\\partial\\Omega} = g$, where $g$ is a known function."
   ]
  },
  {
   "cell_type": "markdown",
   "metadata": {
    "slideshow": {
     "slide_type": "slide"
    }
   },
   "source": [
    "### Example of BPV\n",
    "\n",
    "$$\n",
    "\\begin{align*}\n",
    "\\Delta u = f\\qquad&\\text{on }\\Omega\n",
    "\\\\\n",
    "u = 0\\qquad&\\text{on }\\Gamma\n",
    "\\end{align*}\n",
    "$$\n",
    "(here $f$ is the new notation, nothing to do with the force from above)"
   ]
  },
  {
   "cell_type": "markdown",
   "metadata": {
    "slideshow": {
     "slide_type": "fragment"
    }
   },
   "source": [
    "* What does this equation describe?"
   ]
  },
  {
   "cell_type": "markdown",
   "metadata": {
    "slideshow": {
     "slide_type": "slide"
    }
   },
   "source": [
    "### Solving a BVP numerically\n",
    "\n",
    "Steps:\n",
    "* Discretize a function (and a domain)\n",
    "* Discretize the equations\n",
    "* Solve"
   ]
  },
  {
   "cell_type": "markdown",
   "metadata": {
    "slideshow": {
     "slide_type": "slide"
    }
   },
   "source": [
    "## Solving a BVP with Finite Differences\n",
    "\n",
    "### Discretize a domain:\n",
    "\n",
    "* Choose $h$---grid step size\n",
    "\n",
    "* Grid is points \"that are multiples\" of $h$ (also called a *mesh*).\n",
    "We denote it as $${\\mathbb R}^2 _h := \\{(x _1,x _2) : x _1/h\\in{\\mathbb Z}, x _2/h\\in{\\mathbb Z}\\}$$\n",
    "\n",
    "* Discrete domain:\n",
    "$$\n",
    "\\Omega _h := \\Omega \\cap {\\mathbb R}^2 _h\n",
    "$$\n",
    "\n",
    "* Discrete boundary:\n",
    "$$\n",
    "\\Gamma _h := \\Gamma \\cap {\\mathbb R}^2 _h\n",
    "$$\n",
    "\n",
    "<center><img width=200 src=\"fig/grid.png\"></center>\n",
    "\n",
    "<center>Black points = $\\Omega _h$, <span style=\"color: blue\">blue points</span> = $\\Gamma _h$</center>"
   ]
  },
  {
   "cell_type": "markdown",
   "metadata": {
    "slideshow": {
     "slide_type": "fragment"
    }
   },
   "source": [
    "* How to read the definition of $\\Omega _h$?"
   ]
  },
  {
   "cell_type": "markdown",
   "metadata": {
    "slideshow": {
     "slide_type": "slide"
    }
   },
   "source": [
    "### Discretize a function:\n",
    "\n",
    "* A continuous function $u(x,y)$ is approximated by $u _h$ with values on $(x,y)\\in\\Omega _h$."
   ]
  },
  {
   "cell_type": "markdown",
   "metadata": {
    "slideshow": {
     "slide_type": "slide"
    }
   },
   "source": [
    "### Discretize the equation:\n",
    "\n",
    "* We need to discretize the operator $\\Delta = \\frac{\\partial^2}{\\partial x^2} + \\frac{\\partial^2}{\\partial y^2}$\n",
    "* Recall that for $g=g(x)$,\n",
    "$$\n",
    "\\frac{d^2 g}{dx^2} = \\frac{g(x-h)-2g(x)+g(x+h)}{h^2} + O(h^2)\n",
    "$$\n",
    "\n",
    "* Exercise: prove it by Taylor series:\n",
    "$$\n",
    "g(x+\\xi) = g(x) + \\xi g'(x) + \\frac{\\xi^2}{2} g''(x) + \\frac{\\xi^3}{6} g'''(x) + O(\\xi^4)\n",
    "$$\n",
    "<small>(refresh the <a href=\"http://en.wikipedia.org/wiki/Big_O_notation\">Big-O</a> notation if you need)</small>\n",
    "\n",
    "* Hence\n",
    "$$\n",
    "\\Delta u = \\Delta _h u + O(h^2),\\qquad\\text{where}\n",
    "$$\n",
    "$$\n",
    "\\Delta _h u := \\frac{u(x-h,y)+u(x+h,y)+u(x,y+h)+u(x,y-h)-4u(x,y)}{h^2}.\n",
    "$$\n",
    "\n",
    "* Thus, the **discretized equation** is\n",
    "$$\n",
    "\\frac{u(x-h,y)+u(x+h,y)+u(x,y+h)+u(x,y-h)-4u(x,y)}{h^2} = f(x,y)\n",
    "\\qquad (x,y)\\in\\Omega _h\n",
    "$$\n",
    "\n",
    "* Discrete boundary conditions are easy:\n",
    "$$\n",
    "u(x,y) = 0\n",
    "\\qquad (x,y)\\in\\Gamma _h\n",
    "$$\n",
    "\n",
    "* This is a **system of linear equations SLE** on $u(x,y)$ for $(x,y)\\in\\Omega _h\\cap\\Gamma _h$.\n",
    "\n",
    "* Exercise: Let $h=1/n$ how many unknowns and equations are there?"
   ]
  },
  {
   "cell_type": "markdown",
   "metadata": {
    "slideshow": {
     "slide_type": "slide"
    }
   },
   "source": [
    "* How to approximate Neumann boundary conditions?"
   ]
  },
  {
   "cell_type": "markdown",
   "metadata": {
    "slideshow": {
     "slide_type": "slide"
    }
   },
   "source": [
    "### Order of Approximation\n",
    "\n",
    "* Because the error is $O(h^2)$, we say that $\\Delta _h u$ is approximates $\\Delta u$ with the **second order**.\n",
    "* In other words, we have the **second order of approximation**."
   ]
  },
  {
   "cell_type": "markdown",
   "metadata": {
    "slideshow": {
     "slide_type": "slide"
    }
   },
   "source": [
    "### SLE\n",
    "\n",
    "* Let us do it for $n=4$. We have 9 unknowns (Exercise: write them down)\n",
    "* It is easier to denote them $u _{1,1},u _{1,2},\\ldots,u _{3,3}$ (where $u_{i,j} = u(h i, h j)$).\n",
    "* We have 9 equations of the form $\\Delta _h u(x,y)=0$, $(x,y)\\in\\Omega _h$.\n",
    "* If we collect the unknowns in a vector, we will have a linear system\n",
    "$$\n",
    "\\frac{1}{h^2}\n",
    "\\begin{pmatrix}\n",
    "-4 & 1 & 0 & 1 & 0 & 0 & 0 & 0 & 0 \\\\\n",
    " 1 &-4 & 1 & 0 & 1 & 0 & 0 & 0 & 0 \\\\\n",
    " 0 & 1 &-4 & 0 & 1 & 0 & 0 & 0 & 0 \\\\\n",
    " 1 & 0 & 0 &-4 & 1 & 0 & 1 & 0 & 0 \\\\\n",
    " 0 & 1 & 0 & 1 &-4 & 1 & 0 & 1 & 0 \\\\\n",
    " 0 & 0 & 1 & 0 & 1 &-4 & 0 & 1 & 0 \\\\\n",
    " 0 & 0 & 0 & 1 & 0 & 0 &-4 & 1 & 0 \\\\\n",
    " 0 & 0 & 0 & 0 & 1 & 0 & 1 &-4 & 1 \\\\\n",
    " 0 & 0 & 0 & 0 & 1 & 0 & 0 & 1 &-4 \\\\\n",
    "\\end{pmatrix}\n",
    "\\begin{pmatrix}\n",
    "u _{1,1} \\\\ u _{1,2} \\\\ u _{1,3} \\\\ u _{2,1} \\\\ u _{2,2} \\\\ u _{2,3} \\\\ u _{3,1} \\\\ u _{3,2} \\\\ u _{3,3}\n",
    "\\end{pmatrix} =\n",
    "\\begin{pmatrix}\n",
    "f _{1,1} \\\\ f _{1,2} \\\\ f _{1,3} \\\\ f _{2,1} \\\\ f _{2,2} \\\\ f _{2,3} \\\\ f _{3,1} \\\\ f _{3,2} \\\\ f _{3,3}\n",
    "\\end{pmatrix}\n",
    "$$\n",
    "\n",
    "* Exercise: guess how $f _{i,j}$ is defined"
   ]
  },
  {
   "cell_type": "markdown",
   "metadata": {
    "slideshow": {
     "slide_type": "slide"
    }
   },
   "source": [
    "#### Block structure\n",
    "\n",
    "* The matrix has a block form\n",
    "$$\n",
    "\\begin{pmatrix}\n",
    "A & I & O \\\\\n",
    "I & A & I \\\\\n",
    "O & I & A\n",
    "\\end{pmatrix}\n",
    ",\n",
    "$$\n",
    "where $I$ is the 3x3 identity matrix, $O$ is the zero matrix, and\n",
    "$$A = \\begin{pmatrix}\n",
    "-4 & 1 & 0 \\\\\n",
    " 1 &-4 & 1 \\\\\n",
    " 0 & 1 &-4\n",
    "\\end{pmatrix}\n",
    "$$\n",
    "\n",
    "* In general, the matrix contains $(n-1)\\times(n-1)$ blocks (most of the blocks are zero), each block is an $(n-1)\\times(n-1)$ matrix:\n",
    "$$\n",
    "\\frac{1}{h^2}\n",
    "\\begin{pmatrix}\n",
    "A & I & O & \\cdots & O & O\\\\\n",
    "I & A & I & \\cdots & O & O\\\\\n",
    "O & I & A & \\cdots & O & O\\\\\n",
    "\\vdots & \\vdots & \\vdots & \\ddots & \\vdots & \\vdots \\\\\n",
    "O & O & O & \\cdots & A & I \\\\\n",
    "O & O & O & \\cdots & I & A \\\\\n",
    "\\end{pmatrix}\n",
    ",\n",
    "$$\n",
    "And the $(n-1)\\times (n-1)$ matrix $A$ has a tridiagonal structure with $-4$ on the diagonal and $1$ above and below the diagonal.\n"
   ]
  },
  {
   "cell_type": "markdown",
   "metadata": {
    "slideshow": {
     "slide_type": "slide"
    }
   },
   "source": [
    "** TODO **: write a python code that solves and plots the solution for $f\\equiv 1$. Would be good to use the Kronecker product"
   ]
  },
  {
   "cell_type": "code",
   "execution_count": 1,
   "metadata": {
    "run_control": {
     "read_only": false
    }
   },
   "outputs": [
    {
     "name": "stderr",
     "output_type": "stream",
     "text": [
      "C:\\Users\\a.shapeev\\AppData\\Local\\Continuum\\anaconda2\\lib\\site-packages\\scipy\\sparse\\linalg\\dsolve\\linsolve.py:133: SparseEfficiencyWarning: spsolve requires A be CSC or CSR matrix format\n",
      "  SparseEfficiencyWarning)\n"
     ]
    },
    {
     "data": {
      "image/png": "[encoded data removed]",
      "text/plain": [
       "<matplotlib.figure.Figure at 0x88f42e8>"
      ]
     },
     "metadata": {},
     "output_type": "display_data"
    },
    {
     "data": {
      "image/png": "[encoded data removed]",
      "text/plain": [
       "<matplotlib.figure.Figure at 0xb25de80>"
      ]
     },
     "metadata": {},
     "output_type": "display_data"
    }
   ],
   "source": [
    "import matplotlib.pyplot as plt\n",
    "import numpy as np\n",
    "import scipy as sp\n",
    "import scipy.sparse\n",
    "import scipy.sparse.linalg\n",
    "import matplotlib.cm as cm\n",
    "%matplotlib inline\n",
    "\n",
    "#Problem size:\n",
    "N = 50\n",
    "\n",
    "# Making A without Kronecker product:\n",
    "#def lap2d(N):\n",
    "#    import  pyamg\n",
    "#    return sp.sparse.csr_matrix(pyamg.gallery.laplacian.poisson((N,N)))\n",
    "#A = lap2d(N)\n",
    "\n",
    "# Making A with kronecker product\n",
    "# Making 1D operators:\n",
    "B = np.diag(2*np.ones(N))  + np.diag((-1)*np.ones(N-1),k=-1)+ np.diag((-1)*np.ones(N-1),k = 1)\n",
    "Id = np.diag(np.ones(N));\n",
    "# Making 2D operator:\n",
    "A = np.kron(Id,B) + np.kron(B,Id)\n",
    "\n",
    "# Plot of A\n",
    "plt.spy(A,markersize=20/N)\n",
    "\n",
    "# Right hand side\n",
    "f = np.ones(N**2)\n",
    "\n",
    "# Solution\n",
    "x = sp.sparse.linalg.spsolve(A,f)\n",
    "Sq_x = x.reshape((N, N))\n",
    "#print Sq_x\n",
    "\n",
    "#Fig. of solution\n",
    "fig, ax = plt.subplots()\n",
    "\n",
    "im = ax.imshow(Sq_x, cmap=cm.RdBu, vmin=abs(Sq_x).min(), vmax=abs(Sq_x).max(), extent=[0, 1, 0, 1])\n",
    "im.set_interpolation('bilinear')\n",
    "\n",
    "cb = fig.colorbar(im, ax=ax)"
   ]
  },
  {
   "cell_type": "markdown",
   "metadata": {
    "slideshow": {
     "slide_type": "slide"
    }
   },
   "source": [
    "## Exercise\n",
    "\n",
    "Notice that the scale of the solution changes with $N$. Find the bug that causes it and fix the bug."
   ]
  },
  {
   "cell_type": "markdown",
   "metadata": {
    "slideshow": {
     "slide_type": "slide"
    }
   },
   "source": [
    "## Methods of solving the SLE\n",
    "\n",
    "* Full Gaussian Elimination: $O(N^3)$---no one does that anymore ($N=n^2$ in 2D and $N=n^3$ in 3D)\n",
    "* Elimination using sparsity: $O(N^{3/2})$ in 2D---ok; $O(N^2)$ in 3D---too much!\n",
    "* Fast Fourier Transform: $O(N \\log(N))$---very good, but not always applicable (requires a square domain)\n",
    "* Multigrid: $O(N)$"
   ]
  },
  {
   "cell_type": "markdown",
   "metadata": {
    "slideshow": {
     "slide_type": "slide"
    }
   },
   "source": [
    "### Suggested literature:\n",
    "\n",
    "* <a href=\"http://www.ima.umn.edu/~arnold//8445.f11/notes.pdf\">Lecture notes on Numerical Analysis of Partial Differential Equations</a>, Chapters 1 and 2. (Beware: mathematics.)"
   ]
  },
  {
   "cell_type": "markdown",
   "metadata": {
    "slideshow": {
     "slide_type": "fragment"
    }
   },
   "source": [
    "##### Questions?"
   ]
  },
  {
   "cell_type": "code",
   "execution_count": null,
   "metadata": {
    "collapsed": true
   },
   "outputs": [],
   "source": []
  }
 ],
 "metadata": {
  "celltoolbar": "Slideshow",
  "kernelspec": {
   "display_name": "Python 2",
   "language": "python",
   "name": "python2"
  },
  "language_info": {
   "codemirror_mode": {
    "name": "ipython",
    "version": 2
   },
   "file_extension": ".py",
   "mimetype": "text/x-python",
   "name": "python",
   "nbconvert_exporter": "python",
   "pygments_lexer": "ipython2",
   "version": "2.7.14"
  }
 },
 "nbformat": 4,
 "nbformat_minor": 1
}
